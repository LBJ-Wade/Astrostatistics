{
 "cells": [
  {
   "cell_type": "markdown",
   "id": "c2980ffa-d4d5-42d5-bfb9-49ceec440cff",
   "metadata": {},
   "source": [
    "# Project Ideas"
   ]
  },
  {
   "cell_type": "markdown",
   "id": "59b33e2b-2376-447c-b329-a8830b5ebb80",
   "metadata": {},
   "source": [
    "Duplicate the analysis in https://arxiv.org/abs/2109.03250 (see [this](https://twitter.com/AstroShashank/status/1435983189151866880) very nice Twitter thread).  Discuss the various modelling choices made in that paper, and modify / enhance any that you find suspect."
   ]
  },
  {
   "cell_type": "code",
   "execution_count": null,
   "id": "63d14443-09a1-4db0-9f87-9013fec97ca4",
   "metadata": {},
   "outputs": [],
   "source": []
  }
 ],
 "metadata": {
  "kernelspec": {
   "display_name": "Python 3 (ipykernel)",
   "language": "python",
   "name": "python3"
  },
  "language_info": {
   "codemirror_mode": {
    "name": "ipython",
    "version": 3
   },
   "file_extension": ".py",
   "mimetype": "text/x-python",
   "name": "python",
   "nbconvert_exporter": "python",
   "pygments_lexer": "ipython3",
   "version": "3.9.6"
  }
 },
 "nbformat": 4,
 "nbformat_minor": 5
}
