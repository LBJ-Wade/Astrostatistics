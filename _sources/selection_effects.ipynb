{
 "cells": [
  {
   "cell_type": "markdown",
   "id": "ad75b4bf-b3ca-471e-95e0-a95d58b70735",
   "metadata": {},
   "source": [
    "# Selection Effects"
   ]
  },
  {
   "cell_type": "code",
   "execution_count": null,
   "id": "5fd458cd-5772-4b40-9d5f-7a16fc41085c",
   "metadata": {},
   "outputs": [],
   "source": []
  }
 ],
 "metadata": {
  "kernelspec": {
   "display_name": "Julia 1.6.2",
   "language": "julia",
   "name": "julia-1.6"
  },
  "language_info": {
   "file_extension": ".jl",
   "mimetype": "application/julia",
   "name": "julia",
   "version": "1.6.2"
  }
 },
 "nbformat": 4,
 "nbformat_minor": 5
}
