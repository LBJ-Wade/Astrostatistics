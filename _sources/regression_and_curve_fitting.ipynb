{
 "cells": [
  {
   "cell_type": "markdown",
   "id": "1ab3635a-6af2-4a9f-bdb6-1698cec83de0",
   "metadata": {},
   "source": [
    "# Regression and Curve Fitting"
   ]
  },
  {
   "cell_type": "code",
   "execution_count": null,
   "id": "be0f22c0-14c4-4522-b968-19d4fb15376f",
   "metadata": {},
   "outputs": [],
   "source": []
  }
 ],
 "metadata": {
  "kernelspec": {
   "display_name": "Python 3 (ipykernel)",
   "language": "python",
   "name": "python3"
  },
  "language_info": {
   "codemirror_mode": {
    "name": "ipython",
    "version": 3
   },
   "file_extension": ".py",
   "mimetype": "text/x-python",
   "name": "python",
   "nbconvert_exporter": "python",
   "pygments_lexer": "ipython3",
   "version": "3.9.6"
  }
 },
 "nbformat": 4,
 "nbformat_minor": 5
}
