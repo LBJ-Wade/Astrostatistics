{
 "cells": [
  {
   "cell_type": "markdown",
   "id": "e01dd6a2-d12e-4a03-a036-b895cf57f60e",
   "metadata": {},
   "source": [
    "# Tips and Tricks"
   ]
  },
  {
   "cell_type": "markdown",
   "id": "8c30beeb-ad43-4509-ad53-8bfabe24f4af",
   "metadata": {},
   "source": [
    "We are mostly using [Julia](https://julialang.org/) in this class, though we will also show examples in [Python](https://www.python.org/).  Julia comes with its own package manager; for Python, I recommend using [miniconda](https://docs.conda.io/en/latest/miniconda.html), which is a minimial set of packages based around the `conda` package manager. \n",
    "\n",
    "The [repository](https://github.com/farr/Astrostatistics) containing these pages / chapters / notebooks is, itself, a Julia package.  Download or clone the repo, and then you can \"enter\" the environment by starting julia and then entering:\n",
    "```julia\n",
    "> ]\n",
    "Pkg> activate PATH_TO_REPO_TOP_DIR\n",
    "```\n",
    "or (without entering \"package mode\"):\n",
    "```julia\n",
    "> using Pkg\n",
    "> Pkg.activate(\"path/to/repo/top/dir\")\n",
    "```\n",
    "The `@__DIR__` macro and the `joinpath` function are your friends here; `@__DIR__` expands to whatever directory contains the current source file, and `joinpath` will let you \"move around\" from there to the package top-level directory.\n",
    "\n",
    "The first time you activate the Julia environment for this class, you will need to download and build all the relevant packages:\n",
    "```julia\n",
    "> using Pkg\n",
    "> Pkg.activate(\"path/to/repo/dir\")\n",
    "> Pkg.instantiate()\n",
    "```\n",
    "Once this has been done once you don't need to do it again; you can update the packages in the environment (subject to any version constraints supplied in the `Package.toml` file in the top-level of the reop) by issuing\n",
    "```julia\n",
    "> using Pkg\n",
    "> Pkg.activate(\"path/to/repo/dir\")\n",
    "> Pkg.update()\n",
    "```\n",
    "(if you are doing this all in one session, you only need to activate the environment once; subsequent commands will be interpreted in the context of the active environment).\n",
    "\n",
    "On the Python side, you can create a Conda environment for the entire class:\n",
    "```python\n",
    "conda create -n phy688 python=3 jupyterlab numpy scipy matplotlib pip\n",
    "```\n",
    "and then activate it \n",
    "```python\n",
    "conda activate phy688\n",
    "```\n",
    "after which you can play around."
   ]
  },
  {
   "cell_type": "markdown",
   "id": "b4c127ab-9115-4f1e-b32c-fd3a13bff232",
   "metadata": {},
   "source": [
    "Of course, you only need to use Julia or Python if you want to execute the codes in the class notebooks; feel free to use your own favorite language and modelling languages.  (I love learning new languages, too, so if you find something I don't know about already, I'll be extra happy.)  Beware, though: the course moves fast, and we're mostly interested in the *conceptual* issues around our statistical analyses, not the *computational* ones; so if you're using a language / library stack where you have to start by writing your own MCMC kernels, you'll probably not be able to keep up!"
   ]
  }
 ],
 "metadata": {
  "kernelspec": {
   "display_name": "Julia 1.6.1",
   "language": "julia",
   "name": "julia-1.6"
  },
  "language_info": {
   "file_extension": ".jl",
   "mimetype": "application/julia",
   "name": "julia",
   "version": "1.6.1"
  }
 },
 "nbformat": 4,
 "nbformat_minor": 5
}
