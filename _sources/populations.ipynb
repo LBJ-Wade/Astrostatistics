{
 "cells": [
  {
   "cell_type": "markdown",
   "id": "e610371c-aa13-4fea-b454-af7667423f73",
   "metadata": {},
   "source": [
    "# Populations and Catalogs"
   ]
  }
 ],
 "metadata": {
  "kernelspec": {
   "display_name": "Julia 1.6.2",
   "language": "julia",
   "name": "julia-1.6"
  },
  "language_info": {
   "file_extension": ".jl",
   "mimetype": "application/julia",
   "name": "julia",
   "version": "1.6.2"
  }
 },
 "nbformat": 4,
 "nbformat_minor": 5
}
